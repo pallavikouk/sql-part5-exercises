{
    "metadata": {
        "kernelspec": {
            "name": "SQL",
            "display_name": "SQL",
            "language": "sql"
        },
        "language_info": {
            "name": "sql",
            "version": ""
        }
    },
    "nbformat_minor": 2,
    "nbformat": 4,
    "cells": [
        {
            "cell_type": "markdown",
            "source": [
                "# Exercises: Creating, Updating, and Destroying Objects\n",
                "\n",
                "For the exercises, you will be working with objects and data you create. Before opening this notebook, make sure that you have set up the new connection to the server and that you have located the database and your schema.\n",
                "\n",
                "## Object Creation\n",
                "\n",
                "Before coding, think of three things you want to make. These could be coding projects, new recipes, or planned projects for a woodworking hobby. Brainstorm the appropriate column names and data types as well.\n",
                "\n",
                "Create a table under your schema called `planned_makes`."
            ],
            "metadata": {
                "azdata_cell_guid": "9d51c166-0c19-4f27-a422-2a6cf596bfb2"
            },
            "attachments": {}
        },
        {
            "cell_type": "code",
            "source": [
                "create table JunkDB_STL_May2023.pallavi.planned_makes(\r\n",
                "      name VARCHAR(25),\r\n",
                "      description VARCHAR(50),\r\n",
                "      instructions VARCHAR(500),\r\n",
                "   );"
            ],
            "metadata": {
                "azdata_cell_guid": "d9238911-6f81-4f01-980d-b584307effaf",
                "language": "sql"
            },
            "outputs": [
                {
                    "output_type": "display_data",
                    "data": {
                        "text/html": "Commands completed successfully."
                    },
                    "metadata": {}
                },
                {
                    "output_type": "display_data",
                    "data": {
                        "text/html": "Total execution time: 00:00:00.044"
                    },
                    "metadata": {}
                }
            ],
            "execution_count": 3
        },
        {
            "cell_type": "markdown",
            "source": [
                "Add three rows to your table that are your planned makes."
            ],
            "metadata": {
                "azdata_cell_guid": "83cdf34d-8c4f-4fa1-a14e-77384b19d734"
            }
        },
        {
            "cell_type": "code",
            "source": [
                "INSERT INTO JunkDB_STL_May2023.pallavi.planned_makes (name, description, instructions)\r\n",
                "   VALUES('Pizza', 'To lazy to cook but hungry', 'Call ModPizza and order for delivery');\r\n",
                "\r\n",
                "INSERT INTO JunkDB_STL_May2023.pallavi.planned_makes (name, description, instructions)\r\n",
                "   VALUES('Pizza', 'Frozen', 'Take pizza out of freezer, remove from box and put in 400 degree oven\r\n",
                "   for 15 minutes, remove from oven and cut, eat and enjoy');\r\n",
                "\r\n",
                "INSERT INTO JunkDB_STL_May2023.pallavi.planned_makes (name, description, instructions)\r\n",
                "VALUES('Tatortots', 'Frozen', 'Place tator tots on a baking sheet and put\r\n",
                "in a 400 degree oven, flip after 15 min and cook an additional 15 min or until crispy, \r\n",
                "remove from oven and enjoy');\r\n",
                ""
            ],
            "metadata": {
                "azdata_cell_guid": "e7cff9cb-87ba-4c7b-98f2-eaf445e8719c",
                "language": "sql"
            },
            "outputs": [
                {
                    "output_type": "display_data",
                    "data": {
                        "text/html": "(1 row affected)"
                    },
                    "metadata": {}
                },
                {
                    "output_type": "display_data",
                    "data": {
                        "text/html": "Total execution time: 00:00:00.054"
                    },
                    "metadata": {}
                }
            ],
            "execution_count": 7
        },
        {
            "cell_type": "code",
            "source": [
                "select * from JunkDB_STL_May2023.pallavi.planned_makes"
            ],
            "metadata": {
                "language": "sql",
                "azdata_cell_guid": "ba6fb9a7-79eb-4461-81c6-c5c36106c045"
            },
            "outputs": [
                {
                    "output_type": "display_data",
                    "data": {
                        "text/html": "(3 rows affected)"
                    },
                    "metadata": {}
                },
                {
                    "output_type": "display_data",
                    "data": {
                        "text/html": "Total execution time: 00:00:00.069"
                    },
                    "metadata": {}
                },
                {
                    "output_type": "execute_result",
                    "metadata": {},
                    "execution_count": 8,
                    "data": {
                        "application/vnd.dataresource+json": {
                            "schema": {
                                "fields": [
                                    {
                                        "name": "name"
                                    },
                                    {
                                        "name": "description"
                                    },
                                    {
                                        "name": "instructions"
                                    }
                                ]
                            },
                            "data": [
                                {
                                    "name": "Pizza",
                                    "description": "To lazy to cook but hungry",
                                    "instructions": "Call ModPizza and order for delivery"
                                },
                                {
                                    "name": "Pizza",
                                    "description": "Frozen",
                                    "instructions": "Take pizza out of freezer, remove from box and put in 400 degree oven\r\n   for 15 minutes, remove from oven and cut, eat and enjoy"
                                },
                                {
                                    "name": "Tatortots",
                                    "description": "Frozen",
                                    "instructions": "Place tator tots on a baking sheet and put\r\nin a 400 degree oven, flip after 15 min and cook an additional 15 min or until crispy, \r\nremove from oven and enjoy"
                                }
                            ]
                        },
                        "text/html": [
                            "<table>",
                            "<tr><th>name</th><th>description</th><th>instructions</th></tr>",
                            "<tr><td>Pizza</td><td>To lazy to cook but hungry</td><td>Call ModPizza and order for delivery</td></tr>",
                            "<tr><td>Pizza</td><td>Frozen</td><td>Take pizza out of freezer, remove from box and put in 400 degree oven\r\n   for 15 minutes, remove from oven and cut, eat and enjoy</td></tr>",
                            "<tr><td>Tatortots</td><td>Frozen</td><td>Place tator tots on a baking sheet and put\r\nin a 400 degree oven, flip after 15 min and cook an additional 15 min or until crispy, \r\nremove from oven and enjoy</td></tr>",
                            "</table>"
                        ]
                    }
                }
            ],
            "execution_count": 8
        },
        {
            "cell_type": "markdown",
            "source": [
                "## Update a Row\n",
                "\n",
                "Change different values in one of your three rows."
            ],
            "metadata": {
                "azdata_cell_guid": "4a39b8d4-ae97-4e09-8336-c5fc6a00d76c"
            },
            "attachments": {}
        },
        {
            "cell_type": "code",
            "source": [
                "update JunkDB_STL_May2023.pallavi.planned_makes set instructions='Call Dominos and order for delivery'\r\n",
                "where description='To lazy to cook but hungry'"
            ],
            "metadata": {
                "azdata_cell_guid": "7409c695-9581-4ad8-b03a-574d2c4c87cb",
                "language": "sql"
            },
            "outputs": [
                {
                    "output_type": "display_data",
                    "data": {
                        "text/html": "(1 row affected)"
                    },
                    "metadata": {}
                },
                {
                    "output_type": "display_data",
                    "data": {
                        "text/html": "Total execution time: 00:00:00.061"
                    },
                    "metadata": {}
                }
            ],
            "execution_count": 9
        },
        {
            "cell_type": "code",
            "source": [
                "select * from JunkDB_STL_May2023.pallavi.planned_makes"
            ],
            "metadata": {
                "language": "sql",
                "azdata_cell_guid": "52987df6-a47e-479f-92b6-8abf6ccfb12b"
            },
            "outputs": [
                {
                    "output_type": "display_data",
                    "data": {
                        "text/html": "(3 rows affected)"
                    },
                    "metadata": {}
                },
                {
                    "output_type": "display_data",
                    "data": {
                        "text/html": "Total execution time: 00:00:00.078"
                    },
                    "metadata": {}
                },
                {
                    "output_type": "execute_result",
                    "metadata": {},
                    "execution_count": 10,
                    "data": {
                        "application/vnd.dataresource+json": {
                            "schema": {
                                "fields": [
                                    {
                                        "name": "name"
                                    },
                                    {
                                        "name": "description"
                                    },
                                    {
                                        "name": "instructions"
                                    }
                                ]
                            },
                            "data": [
                                {
                                    "name": "Pizza",
                                    "description": "To lazy to cook but hungry",
                                    "instructions": "Call Dominos and order for delivery"
                                },
                                {
                                    "name": "Pizza",
                                    "description": "Frozen",
                                    "instructions": "Take pizza out of freezer, remove from box and put in 400 degree oven\r\n   for 15 minutes, remove from oven and cut, eat and enjoy"
                                },
                                {
                                    "name": "Tatortots",
                                    "description": "Frozen",
                                    "instructions": "Place tator tots on a baking sheet and put\r\nin a 400 degree oven, flip after 15 min and cook an additional 15 min or until crispy, \r\nremove from oven and enjoy"
                                }
                            ]
                        },
                        "text/html": [
                            "<table>",
                            "<tr><th>name</th><th>description</th><th>instructions</th></tr>",
                            "<tr><td>Pizza</td><td>To lazy to cook but hungry</td><td>Call Dominos and order for delivery</td></tr>",
                            "<tr><td>Pizza</td><td>Frozen</td><td>Take pizza out of freezer, remove from box and put in 400 degree oven\r\n   for 15 minutes, remove from oven and cut, eat and enjoy</td></tr>",
                            "<tr><td>Tatortots</td><td>Frozen</td><td>Place tator tots on a baking sheet and put\r\nin a 400 degree oven, flip after 15 min and cook an additional 15 min or until crispy, \r\nremove from oven and enjoy</td></tr>",
                            "</table>"
                        ]
                    }
                }
            ],
            "execution_count": 10
        },
        {
            "cell_type": "markdown",
            "source": [
                "## Delete a Row\n",
                "\n",
                "Delete one of the rows from your table."
            ],
            "metadata": {
                "azdata_cell_guid": "95e91a6e-9038-42d9-9401-5738842aba17"
            }
        },
        {
            "cell_type": "code",
            "source": [
                "delete from JunkDB_STL_May2023.pallavi.planned_makes where name='Tatortots'"
            ],
            "metadata": {
                "azdata_cell_guid": "749c748f-19b5-4c69-9004-b6b20216616a",
                "language": "sql"
            },
            "outputs": [
                {
                    "output_type": "display_data",
                    "data": {
                        "text/html": "(1 row affected)"
                    },
                    "metadata": {}
                },
                {
                    "output_type": "display_data",
                    "data": {
                        "text/html": "Total execution time: 00:00:00.066"
                    },
                    "metadata": {}
                }
            ],
            "execution_count": 11
        },
        {
            "cell_type": "code",
            "source": [
                "select * from JunkDB_STL_May2023.pallavi.planned_makes"
            ],
            "metadata": {
                "language": "sql",
                "azdata_cell_guid": "ad20d4d3-33f4-44bf-9693-61d2a60d8d9d"
            },
            "outputs": [
                {
                    "output_type": "display_data",
                    "data": {
                        "text/html": "(2 rows affected)"
                    },
                    "metadata": {}
                },
                {
                    "output_type": "display_data",
                    "data": {
                        "text/html": "Total execution time: 00:00:00.060"
                    },
                    "metadata": {}
                },
                {
                    "output_type": "execute_result",
                    "metadata": {},
                    "execution_count": 12,
                    "data": {
                        "application/vnd.dataresource+json": {
                            "schema": {
                                "fields": [
                                    {
                                        "name": "name"
                                    },
                                    {
                                        "name": "description"
                                    },
                                    {
                                        "name": "instructions"
                                    }
                                ]
                            },
                            "data": [
                                {
                                    "name": "Pizza",
                                    "description": "To lazy to cook but hungry",
                                    "instructions": "Call Dominos and order for delivery"
                                },
                                {
                                    "name": "Pizza",
                                    "description": "Frozen",
                                    "instructions": "Take pizza out of freezer, remove from box and put in 400 degree oven\r\n   for 15 minutes, remove from oven and cut, eat and enjoy"
                                }
                            ]
                        },
                        "text/html": [
                            "<table>",
                            "<tr><th>name</th><th>description</th><th>instructions</th></tr>",
                            "<tr><td>Pizza</td><td>To lazy to cook but hungry</td><td>Call Dominos and order for delivery</td></tr>",
                            "<tr><td>Pizza</td><td>Frozen</td><td>Take pizza out of freezer, remove from box and put in 400 degree oven\r\n   for 15 minutes, remove from oven and cut, eat and enjoy</td></tr>",
                            "</table>"
                        ]
                    }
                }
            ],
            "execution_count": 12
        },
        {
            "cell_type": "markdown",
            "source": [
                "## Drop the Table\n",
                "\n",
                "While this has been fun, it is time to drop the table!"
            ],
            "metadata": {
                "azdata_cell_guid": "2239cb09-137b-4579-905b-1aa020793181"
            },
            "attachments": {}
        },
        {
            "cell_type": "code",
            "source": [
                "drop table JunkDB_STL_May2023.pallavi.planned_makes"
            ],
            "metadata": {
                "azdata_cell_guid": "b3c7f6ea-ee26-46b3-9c2a-2f7a82c39699",
                "language": "sql"
            },
            "outputs": [
                {
                    "output_type": "display_data",
                    "data": {
                        "text/html": "Commands completed successfully."
                    },
                    "metadata": {}
                },
                {
                    "output_type": "display_data",
                    "data": {
                        "text/html": "Total execution time: 00:00:00.044"
                    },
                    "metadata": {}
                }
            ],
            "execution_count": 13
        },
        {
            "cell_type": "code",
            "source": [
                "select * from JunkDB_STL_May2023.pallavi.planned_makes"
            ],
            "metadata": {
                "language": "sql",
                "azdata_cell_guid": "28def2c8-f95d-4343-8756-a6eb36ec18fb"
            },
            "outputs": [
                {
                    "output_type": "error",
                    "evalue": "Msg 208, Level 16, State 1, Line 1\r\nInvalid object name 'JunkDB_STL_May2023.pallavi.planned_makes'.",
                    "ename": "",
                    "traceback": []
                },
                {
                    "output_type": "display_data",
                    "data": {
                        "text/html": "Total execution time: 00:00:00.043"
                    },
                    "metadata": {}
                }
            ],
            "execution_count": 14
        }
    ]
}